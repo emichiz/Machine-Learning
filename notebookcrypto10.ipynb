{
 "cells": [
  {
   "cell_type": "code",
   "execution_count": 448,
   "metadata": {},
   "outputs": [],
   "source": [
    "\n",
    "import pandas as pd\n",
    "import pyodbc\n",
    "import numpy as np\n",
    "\n",
    "from feature_engine.imputation import ArbitraryNumberImputer, CategoricalImputer\n",
    "from feature_engine.encoding import OneHotEncoder\n",
    "from sklearn.pipeline import Pipeline\n",
    "from sklearn.ensemble import RandomForestClassifier\n",
    "\n",
    "from sklearn.model_selection import cross_val_score\n",
    "from sklearn.metrics import roc_curve, precision_score, accuracy_score\n",
    "from feature_engine.imputation import ArbitraryNumberImputer, CategoricalImputer\n",
    "from feature_engine.encoding import OneHotEncoder\n",
    "\n",
    "\n",
    "import warnings\n",
    "\n",
    "\n",
    "\n",
    "warnings.filterwarnings(\"ignore\", category=FutureWarning)\n",
    "warnings.filterwarnings(\"ignore\", category=UserWarning)\n",
    "warnings.filterwarnings(\"ignore\", category=RuntimeWarning)\n",
    "warnings.filterwarnings(\"ignore\", category=DeprecationWarning)\n",
    "warnings.filterwarnings(\"ignore\", category=Warning, module='feature_engine')\n",
    "import logging\n",
    "\n",
    "# Defina o nível de log para suprimir mensagens informativas\n",
    "logging.getLogger('lightgbm').setLevel(logging.WARNING)\n",
    "\n"
   ]
  },
  {
   "cell_type": "code",
   "execution_count": 449,
   "metadata": {},
   "outputs": [],
   "source": [
    "# Configurações de conexão com o servidor SQL\n",
    "server = 'xxxx'  # Seu servidor SQL\n",
    "database = 'xxxx'  # Seu banco de dados\n",
    "conn_str = f'DRIVER={{SQL Server}};SERVER={server};DATABASE={database};Trusted_Connection=yes;'\n",
    "# Conectando ao servidor SQL\n",
    "conn = pyodbc.connect(conn_str)\n",
    "cursor = conn.cursor()"
   ]
  },
  {
   "cell_type": "code",
   "execution_count": 450,
   "metadata": {},
   "outputs": [],
   "source": [
    "sql_query = '''\n",
    "SELECT chain_id, dex_id, pair_address, token_address, token_name, token_symbol, token_m5_buys, token_m5_sells, token_h1_buys, token_h1_sells, token_h1_to_m5_buys, token_liquidity, token_market_cap, token_created_since_horas, token_created_since_min, token_eti, token_header, token_website, token_twitter, token_links, token_img_key, token_price_usd,  token_price_change_h24, token_price_change_h6, token_price_change_h1, token_price_change_m5, token_created_dia, token_created_data, token_created_hora\n",
    "\n",
    "FROM DEX;\n",
    "'''"
   ]
  },
  {
   "cell_type": "code",
   "execution_count": 451,
   "metadata": {},
   "outputs": [],
   "source": [
    "df = pd.read_sql(sql_query, conn)"
   ]
  },
  {
   "cell_type": "code",
   "execution_count": 570,
   "metadata": {},
   "outputs": [
    {
     "name": "stdout",
     "output_type": "stream",
     "text": [
      "token_img_key\n",
      "0    2175961\n",
      "1    1517613\n",
      "Name: count, dtype: int64\n"
     ]
    }
   ],
   "source": [
    "# Substituir valores diferentes de '0' por '1'\n",
    "df['token_img_key'] = df['token_img_key'].apply(lambda x: '1' if x != '0' else x)\n",
    "print(df['token_img_key'].value_counts())"
   ]
  },
  {
   "cell_type": "code",
   "execution_count": 571,
   "metadata": {},
   "outputs": [],
   "source": [
    "# Primeira alteração: substituir valores na coluna 'dex_id' com mais de 20 caracteres por \"outros\"\n",
    "df.loc[df['dex_id'].str.len() > 20, 'dex_id'] = 'outros'\n",
    "\n",
    "\n",
    "# Terceira alteração: substituir valores NULL na coluna 'token_h1_to_m5_buys' por 0\n",
    "df['token_h1_to_m5_buys'].fillna(0, inplace=True)\n",
    "\n"
   ]
  },
  {
   "cell_type": "markdown",
   "metadata": {},
   "source": [
    "data ot\n"
   ]
  },
  {
   "cell_type": "code",
   "execution_count": 572,
   "metadata": {},
   "outputs": [],
   "source": [
    "data_limite = pd.to_datetime('2024-04-09')"
   ]
  },
  {
   "cell_type": "code",
   "execution_count": 573,
   "metadata": {},
   "outputs": [],
   "source": [
    "df['token_created_data'] = pd.to_datetime(df['token_created_data'], format='%Y%m%d')\n",
    "# Defina a data limite para a segmentação\n",
    "\n",
    "\n"
   ]
  },
  {
   "cell_type": "markdown",
   "metadata": {},
   "source": [
    "horaaa"
   ]
  },
  {
   "cell_type": "code",
   "execution_count": 658,
   "metadata": {},
   "outputs": [],
   "source": [
    "hora_seg1 = 15\n",
    "hora_seg2 = hora_seg1 + 15\n",
    "hora_seg3 = hora_seg1 + 60\n",
    "hora_seg4 = hora_seg2  + 60\n",
    "hora_limite = hora_seg4 +  10"
   ]
  },
  {
   "cell_type": "markdown",
   "metadata": {},
   "source": [
    "Segmentando a base"
   ]
  },
  {
   "cell_type": "code",
   "execution_count": 659,
   "metadata": {},
   "outputs": [],
   "source": [
    "df_1hora = df[(df['token_created_since_min'] >= hora_seg1) & (df['token_created_since_min'] <= hora_seg2)]\n",
    "\n",
    "# Agrupar os dados pela coluna 'token_address' e manter apenas a linha com o maior valor de 'token_created_since_horas' em cada grupo\n",
    "df_1hora = df_1hora.loc[df_1hora.groupby('token_address')['token_created_since_min'].idxmax()]\n",
    "\n"
   ]
  },
  {
   "cell_type": "code",
   "execution_count": 660,
   "metadata": {},
   "outputs": [],
   "source": [
    "df_limite = df[(df['token_created_since_min'] >= hora_limite) & (df['token_created_since_min'] <= (hora_limite + 90))]\n",
    "\n",
    "# Agrupar os dados pela coluna 'token_address' e manter apenas a linha com o maior valor de 'token_created_since_horas' em cada grupo\n",
    "df_limite = df_limite.loc[df_limite.groupby('token_address')['token_created_since_min'].idxmax()]"
   ]
  },
  {
   "cell_type": "code",
   "execution_count": 661,
   "metadata": {},
   "outputs": [
    {
     "name": "stdout",
     "output_type": "stream",
     "text": [
      "41846\n"
     ]
    }
   ],
   "source": [
    "print(df_1hora['token_address'].nunique())"
   ]
  },
  {
   "cell_type": "markdown",
   "metadata": {},
   "source": [
    "segmentando nova hora"
   ]
  },
  {
   "cell_type": "code",
   "execution_count": 662,
   "metadata": {},
   "outputs": [],
   "source": [
    "df_2hora = df[(df['token_created_since_min'] >= hora_seg3) & (df['token_created_since_min'] <=  hora_seg4)]\n",
    "\n",
    "# Agrupar os dados pela coluna 'token_address' e manter apenas a linha com o maior valor de 'token_created_since_horas' em cada grupo\n",
    "df_2hora = df_2hora.loc[df_2hora.groupby('token_address')['token_created_since_min'].idxmax()]\n",
    "\n"
   ]
  },
  {
   "cell_type": "code",
   "execution_count": 663,
   "metadata": {},
   "outputs": [
    {
     "name": "stdout",
     "output_type": "stream",
     "text": [
      "25572\n"
     ]
    }
   ],
   "source": [
    "print(df_2hora['pair_address'].nunique())"
   ]
  },
  {
   "cell_type": "markdown",
   "metadata": {},
   "source": [
    "merged"
   ]
  },
  {
   "cell_type": "code",
   "execution_count": 664,
   "metadata": {},
   "outputs": [],
   "source": [
    "df_novomerged = pd.merge(df_1hora, df_limite[['token_address', 'token_price_usd', 'token_liquidity', 'token_created_since_min']], on='token_address', how='left')\n",
    "\n",
    "# Preencha os valores faltantes com 0\n",
    "df_novomerged['token_price_usd_y'].fillna(0, inplace=True)\n",
    "df_novomerged['token_liquidity_y'].fillna(0, inplace=True)\n",
    "df_novomerged['token_created_since_min_y'].fillna(0, inplace=True)\n",
    "df_novomerged.rename(columns={'token_price_usd_y': 'token_price_usd_fut', 'token_liquidity_y': 'token_liquidity_fut','token_created_since_min_y':'token_created_since_min_fut', \n",
    " 'token_price_usd_x': 'token_price_usd', 'token_liquidity_x': 'token_liquidity','token_created_since_min_x':'token_created_since_min'                            }, inplace=True)\n",
    "\n"
   ]
  },
  {
   "cell_type": "code",
   "execution_count": 665,
   "metadata": {},
   "outputs": [],
   "source": [
    "df_merged = pd.merge(df_novomerged, df_2hora[['token_address', 'token_price_usd', 'token_liquidity', 'token_created_since_min' ]], on='token_address', how='left')\n",
    "# Preencha os valores faltantes com 0\n",
    "df_merged['token_price_usd_y'].fillna(0, inplace=True)\n",
    "df_merged['token_liquidity_y'].fillna(0, inplace=True)\n",
    "df_merged['token_created_since_min_y'].fillna(0, inplace=True)"
   ]
  },
  {
   "cell_type": "code",
   "execution_count": 666,
   "metadata": {},
   "outputs": [
    {
     "name": "stdout",
     "output_type": "stream",
     "text": [
      "['chain_id', 'dex_id', 'pair_address', 'token_address', 'token_name', 'token_symbol', 'token_m5_buys', 'token_m5_sells', 'token_h1_buys', 'token_h1_sells', 'token_h1_to_m5_buys', 'token_liquidity_x', 'token_market_cap', 'token_created_since_horas', 'token_created_since_min_x', 'token_eti', 'token_header', 'token_website', 'token_twitter', 'token_links', 'token_img_key', 'token_price_usd_x', 'token_price_change_h24', 'token_price_change_h6', 'token_price_change_h1', 'token_price_change_m5', 'token_created_dia', 'token_created_data', 'token_created_hora', 'token_price_usd_fut', 'token_liquidity_fut', 'token_created_since_min_fut', 'token_price_usd_y', 'token_liquidity_y', 'token_created_since_min_y']\n"
     ]
    }
   ],
   "source": [
    "print(df_merged.columns.tolist())"
   ]
  },
  {
   "cell_type": "code",
   "execution_count": 667,
   "metadata": {},
   "outputs": [
    {
     "name": "stdout",
     "output_type": "stream",
     "text": [
      "41846\n"
     ]
    }
   ],
   "source": [
    "print(df_merged['pair_address'].nunique())"
   ]
  },
  {
   "cell_type": "code",
   "execution_count": 668,
   "metadata": {},
   "outputs": [],
   "source": [
    "df_merged['crescimento_price'] = (df_merged['token_price_usd_y'] / df_merged['token_price_usd_x']) - 1\n",
    "df_merged['crescimento_liquidity'] = (df_merged['token_liquidity_y'] / df_merged['token_liquidity_x']) - 1\n"
   ]
  },
  {
   "cell_type": "code",
   "execution_count": 669,
   "metadata": {},
   "outputs": [],
   "source": [
    "condicao = (df_merged['crescimento_price'] > 0.046) & (df_merged['crescimento_liquidity'] > 0) & (df_merged['token_price_usd_fut'] > df_merged['token_price_usd_x']) & (df_merged['token_liquidity_fut'] > 100)\n",
    "df_merged['crescimento_flag'] = np.where(condicao, 1, 0)\n"
   ]
  },
  {
   "cell_type": "code",
   "execution_count": 670,
   "metadata": {},
   "outputs": [
    {
     "name": "stdout",
     "output_type": "stream",
     "text": [
      "count    5.830000e+03\n",
      "mean     1.232600e+25\n",
      "std      9.411445e+26\n",
      "min      4.613413e-02\n",
      "25%      2.215275e-01\n",
      "50%      6.266547e-01\n",
      "75%      1.684822e+00\n",
      "max      7.186056e+28\n",
      "Name: crescimento_price, dtype: float64\n"
     ]
    }
   ],
   "source": [
    "df_diferenca = df_merged[df_merged['crescimento_flag'] == 1]\n",
    "summary = df_diferenca['crescimento_price'].describe()\n",
    "print(summary)"
   ]
  },
  {
   "cell_type": "code",
   "execution_count": 671,
   "metadata": {},
   "outputs": [],
   "source": [
    "removerbase = (df_merged['crescimento_price'] == -1) & (df_merged['token_liquidity_fut'] > 100)\n",
    "\n",
    "# Removendo linhas que satisfazem a condição\n",
    "df_merged = df_merged.drop(df_merged[removerbase].index)"
   ]
  },
  {
   "cell_type": "code",
   "execution_count": 672,
   "metadata": {},
   "outputs": [
    {
     "name": "stdout",
     "output_type": "stream",
     "text": [
      "38954\n"
     ]
    }
   ],
   "source": [
    "print(df_merged['pair_address'].nunique())"
   ]
  },
  {
   "cell_type": "code",
   "execution_count": 673,
   "metadata": {},
   "outputs": [],
   "source": [
    "# Segmentar o DataFrame com base na data limite\n",
    "df_ot = df_merged[df_merged['token_created_data'] >= data_limite]\n",
    "df_otnew = df_merged[(df_merged['token_created_data'] >= data_limite) & (df_merged['token_h1_buys'] >20)]\n",
    "df_merged = df_merged[df_merged['token_created_data'] < data_limite]\n"
   ]
  },
  {
   "cell_type": "code",
   "execution_count": 674,
   "metadata": {},
   "outputs": [
    {
     "name": "stdout",
     "output_type": "stream",
     "text": [
      "33771\n"
     ]
    }
   ],
   "source": [
    "print(df_merged['pair_address'].nunique())"
   ]
  },
  {
   "cell_type": "markdown",
   "metadata": {},
   "source": [
    "categorizando variaveis"
   ]
  },
  {
   "cell_type": "code",
   "execution_count": 675,
   "metadata": {},
   "outputs": [
    {
     "name": "stderr",
     "output_type": "stream",
     "text": [
      "C:\\Users\\xavie\\AppData\\Local\\Temp\\ipykernel_18968\\762259577.py:20: SettingWithCopyWarning: \n",
      "A value is trying to be set on a copy of a slice from a DataFrame.\n",
      "Try using .loc[row_indexer,col_indexer] = value instead\n",
      "\n",
      "See the caveats in the documentation: https://pandas.pydata.org/pandas-docs/stable/user_guide/indexing.html#returning-a-view-versus-a-copy\n",
      "  X[cat_vars] = X[cat_vars].astype('category')\n",
      "C:\\Users\\xavie\\AppData\\Local\\Temp\\ipykernel_18968\\762259577.py:21: SettingWithCopyWarning: \n",
      "A value is trying to be set on a copy of a slice from a DataFrame.\n",
      "Try using .loc[row_indexer,col_indexer] = value instead\n",
      "\n",
      "See the caveats in the documentation: https://pandas.pydata.org/pandas-docs/stable/user_guide/indexing.html#returning-a-view-versus-a-copy\n",
      "  X[cat_vars] = X[cat_vars].astype('category')\n"
     ]
    }
   ],
   "source": [
    "cat_vars =['chain_id', 'dex_id','token_created_dia', 'token_website', 'token_twitter', 'token_eti', 'token_header', 'token_img_key', 'token_created_hora' ]\n",
    "target = ['crescimento_flag']\n",
    "num_vars = ['token_m5_buys','token_m5_sells', 'token_h1_buys', 'token_h1_sells', 'token_liquidity_x', 'token_market_cap', 'token_links', 'token_price_change_h1', 'token_price_change_m5', 'token_h1_to_m5_buys']\n",
    "\n",
    "features = num_vars+ cat_vars\n",
    "df[cat_vars] = df[cat_vars].astype('category')\n",
    "\n",
    "\n",
    "\n",
    "\n",
    "\n",
    "X = df_merged[cat_vars + num_vars]\n",
    "y= df_merged[target]\n",
    "X_ot = df_ot[cat_vars + num_vars]\n",
    "y_ot= df_ot[target]\n",
    "X_otnew = df_otnew[cat_vars + num_vars]\n",
    "y_otnew= df_otnew[target]\n",
    "\n",
    "# Converta as colunas categóricas para o tipo 'category'\n",
    "X[cat_vars] = X[cat_vars].astype('category')\n",
    "X[cat_vars] = X[cat_vars].astype('category')\n",
    "\n"
   ]
  },
  {
   "cell_type": "code",
   "execution_count": 676,
   "metadata": {},
   "outputs": [
    {
     "name": "stdout",
     "output_type": "stream",
     "text": [
      "Número de linhas: 5183\n"
     ]
    }
   ],
   "source": [
    "num_linhas = len(df_ot)\n",
    "print(\"Número de linhas:\", num_linhas)\n"
   ]
  },
  {
   "cell_type": "markdown",
   "metadata": {},
   "source": [
    "treino e teste"
   ]
  },
  {
   "cell_type": "markdown",
   "metadata": {},
   "source": [
    "RF"
   ]
  },
  {
   "cell_type": "code",
   "execution_count": 677,
   "metadata": {},
   "outputs": [
    {
     "data": {
      "text/html": [
       "<style>#sk-container-id-19 {color: black;background-color: white;}#sk-container-id-19 pre{padding: 0;}#sk-container-id-19 div.sk-toggleable {background-color: white;}#sk-container-id-19 label.sk-toggleable__label {cursor: pointer;display: block;width: 100%;margin-bottom: 0;padding: 0.3em;box-sizing: border-box;text-align: center;}#sk-container-id-19 label.sk-toggleable__label-arrow:before {content: \"▸\";float: left;margin-right: 0.25em;color: #696969;}#sk-container-id-19 label.sk-toggleable__label-arrow:hover:before {color: black;}#sk-container-id-19 div.sk-estimator:hover label.sk-toggleable__label-arrow:before {color: black;}#sk-container-id-19 div.sk-toggleable__content {max-height: 0;max-width: 0;overflow: hidden;text-align: left;background-color: #f0f8ff;}#sk-container-id-19 div.sk-toggleable__content pre {margin: 0.2em;color: black;border-radius: 0.25em;background-color: #f0f8ff;}#sk-container-id-19 input.sk-toggleable__control:checked~div.sk-toggleable__content {max-height: 200px;max-width: 100%;overflow: auto;}#sk-container-id-19 input.sk-toggleable__control:checked~label.sk-toggleable__label-arrow:before {content: \"▾\";}#sk-container-id-19 div.sk-estimator input.sk-toggleable__control:checked~label.sk-toggleable__label {background-color: #d4ebff;}#sk-container-id-19 div.sk-label input.sk-toggleable__control:checked~label.sk-toggleable__label {background-color: #d4ebff;}#sk-container-id-19 input.sk-hidden--visually {border: 0;clip: rect(1px 1px 1px 1px);clip: rect(1px, 1px, 1px, 1px);height: 1px;margin: -1px;overflow: hidden;padding: 0;position: absolute;width: 1px;}#sk-container-id-19 div.sk-estimator {font-family: monospace;background-color: #f0f8ff;border: 1px dotted black;border-radius: 0.25em;box-sizing: border-box;margin-bottom: 0.5em;}#sk-container-id-19 div.sk-estimator:hover {background-color: #d4ebff;}#sk-container-id-19 div.sk-parallel-item::after {content: \"\";width: 100%;border-bottom: 1px solid gray;flex-grow: 1;}#sk-container-id-19 div.sk-label:hover label.sk-toggleable__label {background-color: #d4ebff;}#sk-container-id-19 div.sk-serial::before {content: \"\";position: absolute;border-left: 1px solid gray;box-sizing: border-box;top: 0;bottom: 0;left: 50%;z-index: 0;}#sk-container-id-19 div.sk-serial {display: flex;flex-direction: column;align-items: center;background-color: white;padding-right: 0.2em;padding-left: 0.2em;position: relative;}#sk-container-id-19 div.sk-item {position: relative;z-index: 1;}#sk-container-id-19 div.sk-parallel {display: flex;align-items: stretch;justify-content: center;background-color: white;position: relative;}#sk-container-id-19 div.sk-item::before, #sk-container-id-19 div.sk-parallel-item::before {content: \"\";position: absolute;border-left: 1px solid gray;box-sizing: border-box;top: 0;bottom: 0;left: 50%;z-index: -1;}#sk-container-id-19 div.sk-parallel-item {display: flex;flex-direction: column;z-index: 1;position: relative;background-color: white;}#sk-container-id-19 div.sk-parallel-item:first-child::after {align-self: flex-end;width: 50%;}#sk-container-id-19 div.sk-parallel-item:last-child::after {align-self: flex-start;width: 50%;}#sk-container-id-19 div.sk-parallel-item:only-child::after {width: 0;}#sk-container-id-19 div.sk-dashed-wrapped {border: 1px dashed gray;margin: 0 0.4em 0.5em 0.4em;box-sizing: border-box;padding-bottom: 0.4em;background-color: white;}#sk-container-id-19 div.sk-label label {font-family: monospace;font-weight: bold;display: inline-block;line-height: 1.2em;}#sk-container-id-19 div.sk-label-container {text-align: center;}#sk-container-id-19 div.sk-container {/* jupyter's `normalize.less` sets `[hidden] { display: none; }` but bootstrap.min.css set `[hidden] { display: none !important; }` so we also need the `!important` here to be able to override the default hidden behavior on the sphinx rendered scikit-learn.org. See: https://github.com/scikit-learn/scikit-learn/issues/21755 */display: inline-block !important;position: relative;}#sk-container-id-19 div.sk-text-repr-fallback {display: none;}</style><div id=\"sk-container-id-19\" class=\"sk-top-container\"><div class=\"sk-text-repr-fallback\"><pre>Pipeline(steps=[(&#x27;numeric_imputer&#x27;,\n",
       "                 ArbitraryNumberImputer(arbitrary_number=-999,\n",
       "                                        variables=[&#x27;token_m5_buys&#x27;,\n",
       "                                                   &#x27;token_m5_sells&#x27;,\n",
       "                                                   &#x27;token_h1_buys&#x27;,\n",
       "                                                   &#x27;token_h1_sells&#x27;,\n",
       "                                                   &#x27;token_liquidity_x&#x27;,\n",
       "                                                   &#x27;token_market_cap&#x27;,\n",
       "                                                   &#x27;token_links&#x27;,\n",
       "                                                   &#x27;token_price_change_h1&#x27;,\n",
       "                                                   &#x27;token_price_change_m5&#x27;,\n",
       "                                                   &#x27;token_h1_to_m5_buys&#x27;])),\n",
       "                (&#x27;categoric_imputer&#x27;,\n",
       "                 CategoricalImputer(fill_value=&#x27;missing&#x27;,\n",
       "                                    variab...d&#x27;, &#x27;dex_id&#x27;,\n",
       "                                               &#x27;token_created_dia&#x27;,\n",
       "                                               &#x27;token_website&#x27;, &#x27;token_twitter&#x27;,\n",
       "                                               &#x27;token_eti&#x27;, &#x27;token_header&#x27;,\n",
       "                                               &#x27;token_img_key&#x27;,\n",
       "                                               &#x27;token_created_hora&#x27;])),\n",
       "                (&#x27;one&#x27;,\n",
       "                 OneHotEncoder(variables=[&#x27;chain_id&#x27;, &#x27;dex_id&#x27;,\n",
       "                                          &#x27;token_created_dia&#x27;, &#x27;token_website&#x27;,\n",
       "                                          &#x27;token_twitter&#x27;, &#x27;token_eti&#x27;,\n",
       "                                          &#x27;token_header&#x27;, &#x27;token_img_key&#x27;,\n",
       "                                          &#x27;token_created_hora&#x27;])),\n",
       "                (&#x27;rf&#x27;, RandomForestClassifier(random_state=42))])</pre><b>In a Jupyter environment, please rerun this cell to show the HTML representation or trust the notebook. <br />On GitHub, the HTML representation is unable to render, please try loading this page with nbviewer.org.</b></div><div class=\"sk-container\" hidden><div class=\"sk-item sk-dashed-wrapped\"><div class=\"sk-label-container\"><div class=\"sk-label sk-toggleable\"><input class=\"sk-toggleable__control sk-hidden--visually\" id=\"sk-estimator-id-91\" type=\"checkbox\" ><label for=\"sk-estimator-id-91\" class=\"sk-toggleable__label sk-toggleable__label-arrow\">Pipeline</label><div class=\"sk-toggleable__content\"><pre>Pipeline(steps=[(&#x27;numeric_imputer&#x27;,\n",
       "                 ArbitraryNumberImputer(arbitrary_number=-999,\n",
       "                                        variables=[&#x27;token_m5_buys&#x27;,\n",
       "                                                   &#x27;token_m5_sells&#x27;,\n",
       "                                                   &#x27;token_h1_buys&#x27;,\n",
       "                                                   &#x27;token_h1_sells&#x27;,\n",
       "                                                   &#x27;token_liquidity_x&#x27;,\n",
       "                                                   &#x27;token_market_cap&#x27;,\n",
       "                                                   &#x27;token_links&#x27;,\n",
       "                                                   &#x27;token_price_change_h1&#x27;,\n",
       "                                                   &#x27;token_price_change_m5&#x27;,\n",
       "                                                   &#x27;token_h1_to_m5_buys&#x27;])),\n",
       "                (&#x27;categoric_imputer&#x27;,\n",
       "                 CategoricalImputer(fill_value=&#x27;missing&#x27;,\n",
       "                                    variab...d&#x27;, &#x27;dex_id&#x27;,\n",
       "                                               &#x27;token_created_dia&#x27;,\n",
       "                                               &#x27;token_website&#x27;, &#x27;token_twitter&#x27;,\n",
       "                                               &#x27;token_eti&#x27;, &#x27;token_header&#x27;,\n",
       "                                               &#x27;token_img_key&#x27;,\n",
       "                                               &#x27;token_created_hora&#x27;])),\n",
       "                (&#x27;one&#x27;,\n",
       "                 OneHotEncoder(variables=[&#x27;chain_id&#x27;, &#x27;dex_id&#x27;,\n",
       "                                          &#x27;token_created_dia&#x27;, &#x27;token_website&#x27;,\n",
       "                                          &#x27;token_twitter&#x27;, &#x27;token_eti&#x27;,\n",
       "                                          &#x27;token_header&#x27;, &#x27;token_img_key&#x27;,\n",
       "                                          &#x27;token_created_hora&#x27;])),\n",
       "                (&#x27;rf&#x27;, RandomForestClassifier(random_state=42))])</pre></div></div></div><div class=\"sk-serial\"><div class=\"sk-item\"><div class=\"sk-estimator sk-toggleable\"><input class=\"sk-toggleable__control sk-hidden--visually\" id=\"sk-estimator-id-92\" type=\"checkbox\" ><label for=\"sk-estimator-id-92\" class=\"sk-toggleable__label sk-toggleable__label-arrow\">ArbitraryNumberImputer</label><div class=\"sk-toggleable__content\"><pre>ArbitraryNumberImputer(arbitrary_number=-999,\n",
       "                       variables=[&#x27;token_m5_buys&#x27;, &#x27;token_m5_sells&#x27;,\n",
       "                                  &#x27;token_h1_buys&#x27;, &#x27;token_h1_sells&#x27;,\n",
       "                                  &#x27;token_liquidity_x&#x27;, &#x27;token_market_cap&#x27;,\n",
       "                                  &#x27;token_links&#x27;, &#x27;token_price_change_h1&#x27;,\n",
       "                                  &#x27;token_price_change_m5&#x27;,\n",
       "                                  &#x27;token_h1_to_m5_buys&#x27;])</pre></div></div></div><div class=\"sk-item\"><div class=\"sk-estimator sk-toggleable\"><input class=\"sk-toggleable__control sk-hidden--visually\" id=\"sk-estimator-id-93\" type=\"checkbox\" ><label for=\"sk-estimator-id-93\" class=\"sk-toggleable__label sk-toggleable__label-arrow\">CategoricalImputer</label><div class=\"sk-toggleable__content\"><pre>CategoricalImputer(fill_value=&#x27;missing&#x27;,\n",
       "                   variables=[&#x27;chain_id&#x27;, &#x27;dex_id&#x27;, &#x27;token_created_dia&#x27;,\n",
       "                              &#x27;token_website&#x27;, &#x27;token_twitter&#x27;, &#x27;token_eti&#x27;,\n",
       "                              &#x27;token_header&#x27;, &#x27;token_img_key&#x27;,\n",
       "                              &#x27;token_created_hora&#x27;])</pre></div></div></div><div class=\"sk-item\"><div class=\"sk-estimator sk-toggleable\"><input class=\"sk-toggleable__control sk-hidden--visually\" id=\"sk-estimator-id-94\" type=\"checkbox\" ><label for=\"sk-estimator-id-94\" class=\"sk-toggleable__label sk-toggleable__label-arrow\">OneHotEncoder</label><div class=\"sk-toggleable__content\"><pre>OneHotEncoder(variables=[&#x27;chain_id&#x27;, &#x27;dex_id&#x27;, &#x27;token_created_dia&#x27;,\n",
       "                         &#x27;token_website&#x27;, &#x27;token_twitter&#x27;, &#x27;token_eti&#x27;,\n",
       "                         &#x27;token_header&#x27;, &#x27;token_img_key&#x27;,\n",
       "                         &#x27;token_created_hora&#x27;])</pre></div></div></div><div class=\"sk-item\"><div class=\"sk-estimator sk-toggleable\"><input class=\"sk-toggleable__control sk-hidden--visually\" id=\"sk-estimator-id-95\" type=\"checkbox\" ><label for=\"sk-estimator-id-95\" class=\"sk-toggleable__label sk-toggleable__label-arrow\">RandomForestClassifier</label><div class=\"sk-toggleable__content\"><pre>RandomForestClassifier(random_state=42)</pre></div></div></div></div></div></div></div>"
      ],
      "text/plain": [
       "Pipeline(steps=[('numeric_imputer',\n",
       "                 ArbitraryNumberImputer(arbitrary_number=-999,\n",
       "                                        variables=['token_m5_buys',\n",
       "                                                   'token_m5_sells',\n",
       "                                                   'token_h1_buys',\n",
       "                                                   'token_h1_sells',\n",
       "                                                   'token_liquidity_x',\n",
       "                                                   'token_market_cap',\n",
       "                                                   'token_links',\n",
       "                                                   'token_price_change_h1',\n",
       "                                                   'token_price_change_m5',\n",
       "                                                   'token_h1_to_m5_buys'])),\n",
       "                ('categoric_imputer',\n",
       "                 CategoricalImputer(fill_value='missing',\n",
       "                                    variab...d', 'dex_id',\n",
       "                                               'token_created_dia',\n",
       "                                               'token_website', 'token_twitter',\n",
       "                                               'token_eti', 'token_header',\n",
       "                                               'token_img_key',\n",
       "                                               'token_created_hora'])),\n",
       "                ('one',\n",
       "                 OneHotEncoder(variables=['chain_id', 'dex_id',\n",
       "                                          'token_created_dia', 'token_website',\n",
       "                                          'token_twitter', 'token_eti',\n",
       "                                          'token_header', 'token_img_key',\n",
       "                                          'token_created_hora'])),\n",
       "                ('rf', RandomForestClassifier(random_state=42))])"
      ]
     },
     "execution_count": 677,
     "metadata": {},
     "output_type": "execute_result"
    }
   ],
   "source": [
    "rf = Pipeline(steps=[\n",
    "    (\"numeric_imputer\", ArbitraryNumberImputer(variables=num_vars, arbitrary_number=-999)),\n",
    "    (\"categoric_imputer\", CategoricalImputer(variables=cat_vars, fill_value=\"missing\")),\n",
    "    (\"one\", OneHotEncoder(variables=cat_vars)),\n",
    "    (\"rf\", RandomForestClassifier(random_state=42))\n",
    "])\n",
    "\n",
    "# Ajuste o pipeline aos seus dados de treinamento (X_train são suas features e y_train são seus rótulos)\n",
    "rf.fit(X, y)"
   ]
  },
  {
   "cell_type": "code",
   "execution_count": 678,
   "metadata": {},
   "outputs": [
    {
     "name": "stdout",
     "output_type": "stream",
     "text": [
      "Precisão: 1.0\n",
      "Acurácia: 0.9999407775902401\n",
      "[0.88364175 0.88081137 0.88688185 0.85075511 0.84690554]\n"
     ]
    }
   ],
   "source": [
    "scores = cross_val_score(rf, X, y, cv=5)\n",
    "precision = precision_score(y, rf.predict(X))\n",
    "accuracy = accuracy_score(y, rf.predict(X))\n",
    "print(\"Precisão:\", precision)\n",
    "print(\"Acurácia:\", accuracy)\n",
    "print(scores)"
   ]
  },
  {
   "cell_type": "code",
   "execution_count": 679,
   "metadata": {},
   "outputs": [
    {
     "name": "stdout",
     "output_type": "stream",
     "text": [
      "precision 0.7590361445783133\n",
      "Acurácia: 0.8898321435462088\n",
      "ROC AUC: 0.8105424703270333\n",
      "Quantidade classificada como 1: 166\n"
     ]
    }
   ],
   "source": [
    "from sklearn.metrics import roc_auc_score\n",
    "probas_pred = rf.predict_proba(X_ot)[:, 1]\n",
    "\n",
    "# Ajuste do limiar de decisão (por exemplo, 0.5)\n",
    "limiar = 0.55\n",
    "\n",
    "# Classificação com base no limiar\n",
    "previsoes_rf = (probas_pred >= limiar).astype(int)\n",
    "\n",
    "# Calcular a precisão com o novo limiar\n",
    "precision = precision_score(y_ot, previsoes_rf)\n",
    "print(\"precision\",precision)\n",
    "\n",
    "accuracy = accuracy_score(y_ot, previsoes_rf)\n",
    "print(\"Acurácia:\", accuracy)\n",
    "\n",
    "roc_auc_teste = roc_auc_score(y_ot, probas_pred)\n",
    "print(\"ROC AUC:\", roc_auc_teste)\n",
    "\n",
    "quantidade_rf2 = np.sum(previsoes_rf == 1)\n",
    "print(\"Quantidade classificada como 1:\", quantidade_rf2)"
   ]
  },
  {
   "cell_type": "code",
   "execution_count": 680,
   "metadata": {},
   "outputs": [
    {
     "name": "stdout",
     "output_type": "stream",
     "text": [
      "precision 0.7835051546391752\n",
      "Acurácia: 0.8835842820418656\n",
      "ROC AUC: 0.7930776425497271\n",
      "Quantidade classificada como 1: 97\n"
     ]
    }
   ],
   "source": [
    "probas_pred = rf.predict_proba(X_otnew)[:, 1]\n",
    "\n",
    "# Ajuste do limiar de decisão (por exemplo, 0.5)\n",
    "limiar = 0.55\n",
    "\n",
    "# Classificação com base no limiar\n",
    "previsoes_rf = (probas_pred >= limiar).astype(int)\n",
    "\n",
    "# Calcular a precisão com o novo limiar\n",
    "precision = precision_score(y_otnew, previsoes_rf)\n",
    "print(\"precision\",precision)\n",
    "\n",
    "accuracy = accuracy_score(y_otnew, previsoes_rf)\n",
    "print(\"Acurácia:\", accuracy)\n",
    "\n",
    "roc_auc_teste = roc_auc_score(y_otnew, probas_pred)\n",
    "print(\"ROC AUC:\", roc_auc_teste)\n",
    "\n",
    "quantidade_rf2 = np.sum(previsoes_rf == 1)\n",
    "print(\"Quantidade classificada como 1:\", quantidade_rf2)"
   ]
  },
  {
   "cell_type": "markdown",
   "metadata": {},
   "source": [
    "ganhos\n"
   ]
  },
  {
   "cell_type": "code",
   "execution_count": 681,
   "metadata": {},
   "outputs": [
    {
     "name": "stdout",
     "output_type": "stream",
     "text": [
      "                 crescimento_price  contagem\n",
      "chain_id                                    \n",
      "aptos                     0.000000         0\n",
      "arbitrum                 10.516744        10\n",
      "astar                     0.000000         0\n",
      "avalanche                 4.973757         8\n",
      "base                     53.496471        22\n",
      "beam                      0.000000         0\n",
      "blast                     2.926658         3\n",
      "bsc                      96.818832        14\n",
      "canto                     0.000000         0\n",
      "celo                      0.000000         0\n",
      "conflux                   0.000000         0\n",
      "core                      0.000000         0\n",
      "cronos                    0.000000         0\n",
      "degenchain               10.479304         8\n",
      "dogechain                 0.000000         0\n",
      "elastos                   0.000000         0\n",
      "ethereum                 78.286267        24\n",
      "ethereumclassic           0.000000         0\n",
      "ethereumpow               0.000000         0\n",
      "fantom                    0.544464         1\n",
      "filecoin                  0.000000         0\n",
      "flare                     0.000000         0\n",
      "gnosischain               0.000000         0\n",
      "harmony                   0.000000         0\n",
      "hedera                    0.000000         0\n",
      "injective                 0.000000         0\n",
      "iotex                     0.000000         0\n",
      "kava                      0.000000         0\n",
      "linea                     0.000000         0\n",
      "loopnetwork               0.000000         0\n",
      "manta                     0.000000         0\n",
      "mantle                    0.000000         0\n",
      "merlinchain               0.000000         0\n",
      "metis                     0.000000         0\n",
      "mode                      0.000000         0\n",
      "moonbeam                  0.000000         0\n",
      "moonriver                 0.000000         0\n",
      "multiversx                0.000000         0\n",
      "opbnb                     0.000000         0\n",
      "optimism                  0.000000         0\n",
      "polygon                   4.676787         2\n",
      "polygonzkevm              0.000000         0\n",
      "pulsechain                4.666243         1\n",
      "scroll                    0.000000         0\n",
      "sei                       0.000000         0\n",
      "shibarium                 0.000000         0\n",
      "smartbch                  0.000000         0\n",
      "solana                    0.045886         1\n",
      "starknet                  0.000000         0\n",
      "sui                       0.000000         0\n",
      "telos                     0.000000         0\n",
      "ton                       0.000000         0\n",
      "venom                     0.000000         0\n",
      "wanchain                  0.000000         0\n",
      "zkfair                    0.000000         0\n",
      "zksync                    0.000000         0\n"
     ]
    }
   ],
   "source": [
    "limiar = 0.55\n",
    "X_otcompleto = X_otnew.copy()\n",
    "colunas_token = ['token_name', 'token_address', 'pair_address', 'token_symbol', 'token_created_data', 'token_created_hora',  'crescimento_flag', 'crescimento_price', 'token_price_usd_x', 'token_price_usd_y', 'token_price_usd_fut', 'token_created_since_min_x', 'token_created_since_min_y', 'token_liquidity_y', 'token_liquidity_fut']\n",
    "X_otcompleto[colunas_token] = df_ot[colunas_token]\n",
    "X_otcompleto['previsoes'] = previsoes_rf  # Corrigir o nome da variável\n",
    "X_otcompleto['proba'] = probas_pred\n",
    "filtro = probas_pred > limiar\n",
    "X_otcompleto= X_otcompleto[filtro]\n",
    "\n",
    "\n",
    "# Calcular a soma da coluna 'crescimento' para cada categoria 'dex_id'\n",
    "contagem_e_soma_por_dex_idnew = X_otcompleto.groupby('chain_id').agg({'crescimento_price': 'sum', 'chain_id': 'size'})\n",
    "\n",
    "# Renomear a coluna 'dex_id' para 'contagem'\n",
    "contagem_e_soma_por_dex_idnew.rename(columns={'chain_id': 'contagem'}, inplace=True)\n",
    "\n",
    "# Exibir a contagem e a soma por categoria\n",
    "\n",
    "print(contagem_e_soma_por_dex_idnew)\n"
   ]
  },
  {
   "cell_type": "code",
   "execution_count": 682,
   "metadata": {},
   "outputs": [
    {
     "name": "stdout",
     "output_type": "stream",
     "text": [
      "         token_name                                pair_address  proba\n",
      "9240     BlockGames  0xeF2440df47521647FC997c3c99a04C1297707053   0.59\n",
      "11178   Piggy Bonki  0x94A6CD8567d547079Baba34Ab63ad8B013180791   0.63\n",
      "13336          Saga  0x191110a96429cA2Ec9e796D7e34ca86a730D1abd   0.63\n",
      "13714          FOXY  0xCB9481B0B4a4f3aBacafCBE77AA0d6Eeb400BA72   0.65\n",
      "17234          Foxy  0x913EC7732271bc98aE4bF4070B641cad07eD6f51   0.65\n",
      "20254     Shiva Inu  0xcbAfceCc2b83513F0F276c43CA049D9D482817b5   0.68\n",
      "21296        Ordify  0x5a7eFA776CaC8E6d836b0D3aa0d1C4Aba6b01e04   0.56\n",
      "21608          Fish  0xBa3623b05b20fc04d30731dF0475F980E20B4924   0.88\n",
      "22018    World Coin  0x2a2214A59Fc9227d9c9852c04c9B4dCE5659EeE3   0.86\n",
      "22303      Football  0x85b03A9a84BA6614Ff53a9E7ee1C8BFa2bFB6C65   0.80\n",
      "23000    Gelly Dons  0x41ac3449263d84e17c5cc85e99E6Ba5f68d30427   0.56\n",
      "25063       Context  0xCAf7307a587A135343d7AF1ebA86b58E9A3F9448   0.71\n",
      "26606  Book Of Bull  0x3dd025B315354F742f2F126f9afe0B080b8A9BD9   0.63\n",
      "27030          SAGA  0xf898719160149397A63f2be54F140A7a56dd34F2   0.63\n"
     ]
    }
   ],
   "source": [
    "df_filtrado = X_otcompleto[X_otcompleto['chain_id'] == 'bsc']\n",
    "df_filtrado = df_filtrado[['token_name', 'pair_address' ,'proba']]\n",
    "\n",
    "print(df_filtrado)"
   ]
  },
  {
   "cell_type": "code",
   "execution_count": 683,
   "metadata": {},
   "outputs": [
    {
     "name": "stdout",
     "output_type": "stream",
     "text": [
      "         chain_id     dex_id token_created_dia token_website token_twitter  \\\n",
      "598    degenchain  degenswap      quinta-feira         False         False   \n",
      "843      arbitrum  sushiswap      quinta-feira         False         False   \n",
      "903    degenchain  degenswap       terça-feira         False         False   \n",
      "1211     arbitrum  sushiswap      quarta-feira         False         False   \n",
      "1936     arbitrum    camelot      quinta-feira         False         False   \n",
      "...           ...        ...               ...           ...           ...   \n",
      "27082    ethereum    uniswap      quarta-feira         False         False   \n",
      "27464        base    uniswap      quarta-feira         False          True   \n",
      "27565        base    uniswap       terça-feira         False         False   \n",
      "27630    ethereum    uniswap       terça-feira         False         False   \n",
      "35964      solana    raydium      quinta-feira          True          True   \n",
      "\n",
      "      token_eti token_header token_img_key token_created_hora  token_m5_buys  \\\n",
      "598       False        False             0                  3             10   \n",
      "843       False        False             0                  8             11   \n",
      "903       False        False             0                 21              9   \n",
      "1211      False        False             0                  0              4   \n",
      "1936      False        False             0                  9            104   \n",
      "...         ...          ...           ...                ...            ...   \n",
      "27082     False        False             0                 11              4   \n",
      "27464     False         True             1                  0            960   \n",
      "27565     False         True             1                  6              4   \n",
      "27630     False        False             0                 17              1   \n",
      "35964     False         True             1                  8              0   \n",
      "\n",
      "       ...  crescimento_price  token_price_usd_x  token_price_usd_y  \\\n",
      "598    ...           1.244774       9.854000e-07       2.212000e-06   \n",
      "843    ...           3.026952       1.076000e-04       4.333000e-04   \n",
      "903    ...           0.959522       1.087000e-06       2.130000e-06   \n",
      "1211   ...           1.036280       6.119000e-08       1.246000e-07   \n",
      "1936   ...          -1.000000       5.799000e-08       0.000000e+00   \n",
      "...    ...                ...                ...                ...   \n",
      "27082  ...           6.571606       1.606000e-04       1.216000e-03   \n",
      "27464  ...           7.392532       2.196000e-05       1.843000e-04   \n",
      "27565  ...           0.031922       1.535000e-03       1.584000e-03   \n",
      "27630  ...           7.893469       3.154000e-07       2.805000e-06   \n",
      "35964  ...           0.045886       9.175000e-05       9.596000e-05   \n",
      "\n",
      "       token_price_usd_fut  token_created_since_min_x  \\\n",
      "598           3.445000e-06                      22.37   \n",
      "843           6.389000e-04                      18.62   \n",
      "903           3.128000e-06                      25.08   \n",
      "1211          3.548000e-07                      18.93   \n",
      "1936          0.000000e+00                      20.01   \n",
      "...                    ...                        ...   \n",
      "27082         1.219000e-03                      27.42   \n",
      "27464         8.899000e-04                      23.91   \n",
      "27565         1.861000e-03                      29.73   \n",
      "27630         3.251000e-06                      15.56   \n",
      "35964         0.000000e+00                      24.55   \n",
      "\n",
      "       token_created_since_min_y  token_liquidity_y  token_liquidity_fut  \\\n",
      "598                        82.95           19401.02             24227.49   \n",
      "843                        79.29          216841.15            263367.11   \n",
      "903                        85.57           17116.07             20943.58   \n",
      "1211                       79.53           86432.85            147265.35   \n",
      "1936                        0.00               0.00                 0.00   \n",
      "...                          ...                ...                  ...   \n",
      "27082                      88.06          570542.62            571431.63   \n",
      "27464                      84.55          193795.62            428706.74   \n",
      "27565                      75.21          457447.42            497456.39   \n",
      "27630                      76.22          109001.56            117361.14   \n",
      "35964                      85.24            1833.02                 0.00   \n",
      "\n",
      "       previsoes proba  \n",
      "598            1  0.81  \n",
      "843            1  0.86  \n",
      "903            1  0.67  \n",
      "1211           1  0.85  \n",
      "1936           1  0.83  \n",
      "...          ...   ...  \n",
      "27082          1  0.71  \n",
      "27464          1  0.69  \n",
      "27565          1  0.56  \n",
      "27630          1  0.67  \n",
      "35964          1  0.64  \n",
      "\n",
      "[94 rows x 35 columns]\n"
     ]
    }
   ],
   "source": [
    "print(X_otcompleto)"
   ]
  },
  {
   "cell_type": "markdown",
   "metadata": {},
   "source": [
    "x completo\n"
   ]
  },
  {
   "cell_type": "markdown",
   "metadata": {},
   "source": [
    "df 10 min"
   ]
  },
  {
   "cell_type": "code",
   "execution_count": 684,
   "metadata": {},
   "outputs": [],
   "source": [
    "sql_query10 = '''\n",
    "SELECT chain_id, dex_id, pair_address, token_address, token_name, token_symbol, token_m5_buys, token_m5_sells, token_h1_buys, token_h1_sells, token_h1_to_m5_buys, token_liquidity, token_market_cap, token_created_since_horas, token_created_since_min, token_eti, token_header, token_website, token_twitter, token_links, token_img_key, token_price_usd,  token_price_change_h24, token_price_change_h6, token_price_change_h1, token_price_change_m5, token_created_dia, token_created_data, token_created_hora\n",
    "\n",
    "FROM dex10;\n",
    "'''"
   ]
  },
  {
   "cell_type": "code",
   "execution_count": null,
   "metadata": {},
   "outputs": [],
   "source": [
    "df10 = pd.read_sql(sql_query, conn)"
   ]
  },
  {
   "cell_type": "code",
   "execution_count": null,
   "metadata": {},
   "outputs": [
    {
     "name": "stdout",
     "output_type": "stream",
     "text": [
      "['chain_id', 'dex_id', 'pair_address', 'token_address', 'token_name', 'token_symbol', 'token_m5_buys', 'token_m5_sells', 'token_h1_buys', 'token_h1_sells', 'token_h1_to_m5_buys', 'token_liquidity', 'token_market_cap', 'token_created_since_horas', 'token_created_since_min', 'token_eti', 'token_header', 'token_website', 'token_twitter', 'token_links', 'token_img_key', 'token_price_usd', 'token_price_change_h24', 'token_price_change_h6', 'token_price_change_h1', 'token_price_change_m5', 'token_created_dia', 'token_created_data', 'token_created_hora']\n"
     ]
    }
   ],
   "source": [
    "print(df10.columns.tolist())"
   ]
  },
  {
   "cell_type": "code",
   "execution_count": null,
   "metadata": {},
   "outputs": [
    {
     "name": "stdout",
     "output_type": "stream",
     "text": [
      "token_img_key\n",
      "0    2131448\n",
      "1    1487389\n",
      "Name: count, dtype: int64\n"
     ]
    }
   ],
   "source": [
    "# Substituir valores diferentes de '0' por '1'\n",
    "df10['token_img_key'] = df10['token_img_key'].apply(lambda x: '1' if x != '0' else x)\n",
    "print(df10['token_img_key'].value_counts())"
   ]
  },
  {
   "cell_type": "code",
   "execution_count": null,
   "metadata": {},
   "outputs": [],
   "source": [
    "# Primeira alteração: substituir valores na coluna 'dex_id' com mais de 20 caracteres por \"outros\"\n",
    "df10.loc[df10['dex_id'].str.len() > 20, 'dex_id'] = 'outros'\n",
    "\n",
    "\n",
    "# Terceira alteração: substituir valores NULL na coluna 'token_h1_to_m5_buys' por 0\n",
    "df10['token_h1_to_m5_buys'].fillna(0, inplace=True)"
   ]
  },
  {
   "cell_type": "code",
   "execution_count": null,
   "metadata": {},
   "outputs": [],
   "source": [
    "df10['token_created_data'] = pd.to_datetime(df10['token_created_data'], format='%Y%m%d')"
   ]
  },
  {
   "cell_type": "code",
   "execution_count": null,
   "metadata": {},
   "outputs": [
    {
     "name": "stdout",
     "output_type": "stream",
     "text": [
      "        chain_id       dex_id  \\\n",
      "0           base      uniswap   \n",
      "1         zksync  pancakeswap   \n",
      "2           base      uniswap   \n",
      "3         fantom   spookyswap   \n",
      "4         solana      raydium   \n",
      "...          ...          ...   \n",
      "3618832      ton       dedust   \n",
      "3618833   solana      raydium   \n",
      "3618834   solana      raydium   \n",
      "3618835     base      uniswap   \n",
      "3618836     base    sushiswap   \n",
      "\n",
      "                                             pair_address  \\\n",
      "0              0x5Ab85Ec3D5241452900212aEc7fc46254F8B4b3D   \n",
      "1              0x97FE49f62ecAE19F6635e9Bd6F64A47bed133324   \n",
      "2              0xa9Eb27856ab7f2527F6e650f117D472b20D653c2   \n",
      "3              0xEdf34DAAF562aa39b7424A3cb97D4193c21C9456   \n",
      "4            GFKBifF8zbUf52ZqARZtsfuTwX8fWsujtQqTuWW3Ecmy   \n",
      "...                                                   ...   \n",
      "3618832  EQDGdzOZIReQt_nU0FYbZo-5pB50c42KgJPicpdIiCSzo3Pw   \n",
      "3618833      AGtkTfmACubX7yXTSv3G8eGvCxZiSq2Ck6ot3sWveM5Y   \n",
      "3618834      3APG5BTBmQsNCuJqK2rsVYSmZsAoNX7Zaa7fxbTBFSEH   \n",
      "3618835        0xBf89341Ba4735f08a59B9B143A4F00eB8C320be2   \n",
      "3618836        0x935AE8f99Ddbd3f1dF51aB51BCfCC2ec4a84C840   \n",
      "\n",
      "                                            token_address       token_name  \\\n",
      "0              0xC73af7e38a532101f013a5e0B5a810602AF20971        Liber Tea   \n",
      "1              0x32Fd44bB869620C0EF993754c8a00Be67C464806  Rocket Pool ETH   \n",
      "2              0x71F7De1364F01Df8C6c8Ce20508bda680a132739         Base Ape   \n",
      "3              0xb77bcC523c3b496283203C8Ae2c162cf206A103f             GOGO   \n",
      "4            7HQGivE8NZjFSeXrF7Teu7hq5zKiaGwp7yuVkzjVEeWf           CUMGOD   \n",
      "...                                                   ...              ...   \n",
      "3618832  EQDK9n0i9Jw6j_wzFCWKJSegJ5AbfmDw-S5VDAdaVZFOrhpk   TONBandits.ton   \n",
      "3618833      6KQcfsu1vNkn2PQcZzPVx8vd1FTbD9hkXQjcawy9jSEV      SWEETIE FOX   \n",
      "3618834      D2xmBndA5PCpxcKu4Jc5CW3iPWuvqgagU8JYMrfpboQu             Peen   \n",
      "3618835        0xbdD04aEfE690a17f5EB56b3fEE93943121eD34bE           MIMANY   \n",
      "3618836        0xBD13c9a3a5E43003EB9Aeb756010A04Ce9E5C8FD           ROOSTA   \n",
      "\n",
      "        token_symbol  token_m5_buys  token_m5_sells  token_h1_buys  \\\n",
      "0                TEA              0               0              0   \n",
      "1               rETH              0               0              0   \n",
      "2               BAPE              0               0              0   \n",
      "3               GOGO              0               0              0   \n",
      "4             CUMGOD              0               0              2   \n",
      "...              ...            ...             ...            ...   \n",
      "3618832         TONB              0               0              3   \n",
      "3618833          FOX              0               0              0   \n",
      "3618834         PEEN              0               0              0   \n",
      "3618835       MIMANY              0               0            288   \n",
      "3618836       ROOSTA              0               0              5   \n",
      "\n",
      "         token_h1_sells  ...  token_links  token_img_key  token_price_usd  \\\n",
      "0                     0  ...            0              0     6.842000e-07   \n",
      "1                     0  ...            0              0     4.200930e+03   \n",
      "2                     0  ...            3              1     1.654000e-03   \n",
      "3                     0  ...            3              1     8.838000e-07   \n",
      "4                     5  ...            3              1     4.831000e-06   \n",
      "...                 ...  ...          ...            ...              ...   \n",
      "3618832               0  ...            0              0     1.978000e-01   \n",
      "3618833               1  ...            3              1     1.777000e-07   \n",
      "3618834               0  ...            0              0     2.523000e-03   \n",
      "3618835             224  ...            0              0     1.992000e-06   \n",
      "3618836               3  ...            0              0     2.039000e-05   \n",
      "\n",
      "         token_price_change_h24  token_price_change_h6  token_price_change_h1  \\\n",
      "0                             0                      0                      0   \n",
      "1                             0                      0                      0   \n",
      "2                            -6                      0                      0   \n",
      "3                            -7                    -10                      0   \n",
      "4                           -86                    -29                      4   \n",
      "...                         ...                    ...                    ...   \n",
      "3618832                     -59                      9                     -4   \n",
      "3618833                      -4                      3                      0   \n",
      "3618834               243045168                      0                      0   \n",
      "3618835                     -99                    -99                    -99   \n",
      "3618836                      15                     10                     10   \n",
      "\n",
      "         token_price_change_m5  token_created_dia  token_created_data  \\\n",
      "0                            0       quarta-feira          2024-03-27   \n",
      "1                            0       quarta-feira          2024-03-27   \n",
      "2                            0       quarta-feira          2024-03-27   \n",
      "3                            0       quarta-feira          2024-03-27   \n",
      "4                            0       quarta-feira          2024-03-27   \n",
      "...                        ...                ...                 ...   \n",
      "3618832                      0       quinta-feira          2024-04-11   \n",
      "3618833                      0       quinta-feira          2024-04-11   \n",
      "3618834                      0       quinta-feira          2024-04-11   \n",
      "3618835                      0       quinta-feira          2024-04-11   \n",
      "3618836                      0       quinta-feira          2024-04-11   \n",
      "\n",
      "         token_created_hora  \n",
      "0                         2  \n",
      "1                         2  \n",
      "2                         2  \n",
      "3                         2  \n",
      "4                         2  \n",
      "...                     ...  \n",
      "3618832                   1  \n",
      "3618833                   1  \n",
      "3618834                   1  \n",
      "3618835                   1  \n",
      "3618836                   1  \n",
      "\n",
      "[3618837 rows x 29 columns]\n"
     ]
    }
   ],
   "source": [
    "print(df10)"
   ]
  },
  {
   "cell_type": "code",
   "execution_count": null,
   "metadata": {},
   "outputs": [],
   "source": [
    "df10n = df10.copy()"
   ]
  },
  {
   "cell_type": "code",
   "execution_count": null,
   "metadata": {},
   "outputs": [],
   "source": [
    "df10n['interval'] = pd.cut(df['token_created_since_min'], bins=range(0, 300, 20), right=False)"
   ]
  },
  {
   "cell_type": "code",
   "execution_count": null,
   "metadata": {},
   "outputs": [],
   "source": [
    "df10n_filtered = df10n.loc[df10n.groupby(['pair_address', 'interval'], observed=True)['token_created_since_min'].idxmax()]\n",
    "\n"
   ]
  },
  {
   "cell_type": "code",
   "execution_count": null,
   "metadata": {},
   "outputs": [
    {
     "name": "stdout",
     "output_type": "stream",
     "text": [
      "        chain_id     dex_id  \\\n",
      "1049422    venom  web3world   \n",
      "1051618    venom  web3world   \n",
      "1056267    venom  web3world   \n",
      "1057674    venom  web3world   \n",
      "1064629    venom  web3world   \n",
      "...          ...        ...   \n",
      "642910    solana    raydium   \n",
      "644740    solana    raydium   \n",
      "404919    solana    raydium   \n",
      "368096    solana    raydium   \n",
      "1910953   solana    raydium   \n",
      "\n",
      "                                              pair_address  \\\n",
      "1049422  0:0121786b5319f6cc1b380e3d4f17e28273fc37fac500...   \n",
      "1051618  0:0121786b5319f6cc1b380e3d4f17e28273fc37fac500...   \n",
      "1056267  0:0121786b5319f6cc1b380e3d4f17e28273fc37fac500...   \n",
      "1057674  0:0121786b5319f6cc1b380e3d4f17e28273fc37fac500...   \n",
      "1064629  0:0121786b5319f6cc1b380e3d4f17e28273fc37fac500...   \n",
      "...                                                    ...   \n",
      "642910         zn1GSbRZbsL1bXRKhUmCc97TnXQoJfV5bEH1sD9SCsz   \n",
      "644740         zn1GSbRZbsL1bXRKhUmCc97TnXQoJfV5bEH1sD9SCsz   \n",
      "404919         zpy18s5sLo26hPDmzJRmw7P2RZ3whuG2ctAG9Ra5ddw   \n",
      "368096         zu6pfRUS57weJtJRKq4vogm3rZqdG1S7quqZfqiruZR   \n",
      "1910953        zvesNcpqGHSFHUEq3Jy9uNLx4HTH751euSDEm4MCCPD   \n",
      "\n",
      "                                             token_address        token_name  \\\n",
      "1049422  0:74a73ed92755e9324f1c9520b0e3841d7b1a5c0cdf76...          Hattimon   \n",
      "1051618  0:74a73ed92755e9324f1c9520b0e3841d7b1a5c0cdf76...          Hattimon   \n",
      "1056267  0:74a73ed92755e9324f1c9520b0e3841d7b1a5c0cdf76...          Hattimon   \n",
      "1057674  0:74a73ed92755e9324f1c9520b0e3841d7b1a5c0cdf76...          Hattimon   \n",
      "1064629  0:74a73ed92755e9324f1c9520b0e3841d7b1a5c0cdf76...          Hattimon   \n",
      "...                                                    ...               ...   \n",
      "642910        DeiEBdtvbqA5A8He7YjXSPLNM4uGCt51WtarFNu9bvsR        Karate Cat   \n",
      "644740        DeiEBdtvbqA5A8He7YjXSPLNM4uGCt51WtarFNu9bvsR        Karate Cat   \n",
      "404919        EdDP9hdMBbaiPakwXsqW2qRPva76c2Y5jy2YuaveYCYg          Grok-1.5   \n",
      "368096        88U9a13umnmUrVGjwCVKMCVTE4LHcaUgvuHByzib19bN              BUNS   \n",
      "1910953       GnhphWM5Y1G4f6cY5cSGFq2DgsoN5RTPKVvqeLSNpkWL  Catdium Protocol   \n",
      "\n",
      "        token_symbol  token_m5_buys  token_m5_sells  token_h1_buys  \\\n",
      "1049422         HTTM              0               1              1   \n",
      "1051618         HTTM              1               0              5   \n",
      "1056267         HTTM              0               0              5   \n",
      "1057674         HTTM              0               0              5   \n",
      "1064629         HTTM              0               0              0   \n",
      "...              ...            ...             ...            ...   \n",
      "642910          KRCT              1               1             11   \n",
      "644740          KRCT              5               2             20   \n",
      "404919      Grok-1.5             52              30             52   \n",
      "368096          BUNS             42              49             42   \n",
      "1910953      CATDIUM              0               0             76   \n",
      "\n",
      "         token_h1_sells  ...  token_img_key  token_price_usd  \\\n",
      "1049422               1  ...              0     3.136000e-03   \n",
      "1051618               1  ...              0     3.049000e-03   \n",
      "1056267               1  ...              0     3.049000e-03   \n",
      "1057674               1  ...              0     3.049000e-03   \n",
      "1064629               0  ...              0     3.049000e-03   \n",
      "...                 ...  ...            ...              ...   \n",
      "642910                5  ...              1     1.357000e-05   \n",
      "644740                7  ...              1     1.975000e-05   \n",
      "404919               30  ...              0     1.111000e-08   \n",
      "368096               49  ...              0     1.173000e-05   \n",
      "1910953              35  ...              0     5.253000e-04   \n",
      "\n",
      "         token_price_change_h24  token_price_change_h6  token_price_change_h1  \\\n",
      "1049422                      -1                     -1                     -1   \n",
      "1051618                      -3                     -3                     -3   \n",
      "1056267                      -3                     -3                     -3   \n",
      "1057674                      -3                     -3                     -3   \n",
      "1064629                      -3                     -3                      0   \n",
      "...                         ...                    ...                    ...   \n",
      "642910                       71                     71                     32   \n",
      "644740                      150                    150                     93   \n",
      "404919                      -99                    -99                    -99   \n",
      "368096                        6                      6                      6   \n",
      "1910953                       4                      4                      4   \n",
      "\n",
      "         token_price_change_m5  token_created_dia  token_created_data  \\\n",
      "1049422                     -1            domingo          2024-03-31   \n",
      "1051618                      1            domingo          2024-03-31   \n",
      "1056267                      0            domingo          2024-03-31   \n",
      "1057674                      0            domingo          2024-03-31   \n",
      "1064629                      0            domingo          2024-03-31   \n",
      "...                        ...                ...                 ...   \n",
      "642910                       9        sexta-feira          2024-03-29   \n",
      "644740                      20        sexta-feira          2024-03-29   \n",
      "404919                     -99       quinta-feira          2024-03-28   \n",
      "368096                       6       quinta-feira          2024-03-28   \n",
      "1910953                      0       quarta-feira          2024-04-03   \n",
      "\n",
      "         token_created_hora    interval  \n",
      "1049422                   7     [0, 20)  \n",
      "1051618                   7    [20, 40)  \n",
      "1056267                   7    [40, 60)  \n",
      "1057674                   8    [60, 80)  \n",
      "1064629                   8   [80, 100)  \n",
      "...                     ...         ...  \n",
      "642910                   18  [240, 260)  \n",
      "644740                   18  [260, 280)  \n",
      "404919                   21     [0, 20)  \n",
      "368096                   18     [0, 20)  \n",
      "1910953                   7     [0, 20)  \n",
      "\n",
      "[418623 rows x 30 columns]\n"
     ]
    }
   ],
   "source": [
    "print(df10n_filtered)"
   ]
  },
  {
   "cell_type": "code",
   "execution_count": null,
   "metadata": {},
   "outputs": [
    {
     "name": "stdout",
     "output_type": "stream",
     "text": [
      "Index(['chain_id', 'dex_id', 'pair_address', 'token_address', 'token_name',\n",
      "       'token_symbol', 'token_m5_buys', 'token_m5_sells', 'token_h1_buys',\n",
      "       'token_h1_sells', 'token_h1_to_m5_buys', 'token_liquidity',\n",
      "       'token_market_cap', 'token_created_since_horas',\n",
      "       'token_created_since_min', 'token_eti', 'token_header', 'token_website',\n",
      "       'token_twitter', 'token_links', 'token_img_key', 'token_price_usd',\n",
      "       'token_price_change_h24', 'token_price_change_h6',\n",
      "       'token_price_change_h1', 'token_price_change_m5', 'token_created_dia',\n",
      "       'token_created_data', 'token_created_hora', 'interval'],\n",
      "      dtype='object')\n"
     ]
    }
   ],
   "source": [
    "print(df10n_filtered.columns)"
   ]
  },
  {
   "cell_type": "code",
   "execution_count": null,
   "metadata": {},
   "outputs": [
    {
     "data": {
      "text/plain": [
       "Index(['chain_id', 'dex_id', 'pair_address', 'token_address', 'token_name',\n",
       "       'token_symbol', 'token_m5_buys', 'token_m5_sells', 'token_h1_buys',\n",
       "       'token_h1_sells', 'token_h1_to_m5_buys', 'token_liquidity',\n",
       "       'token_market_cap', 'token_created_since_horas',\n",
       "       'token_created_since_min', 'token_eti', 'token_header', 'token_website',\n",
       "       'token_twitter', 'token_links', 'token_img_key', 'token_price_usd',\n",
       "       'token_price_change_h24', 'token_price_change_h6',\n",
       "       'token_price_change_h1', 'token_price_change_m5', 'token_created_dia',\n",
       "       'token_created_data', 'token_created_hora', 'interval'],\n",
       "      dtype='object')"
      ]
     },
     "execution_count": 240,
     "metadata": {},
     "output_type": "execute_result"
    }
   ],
   "source": [
    "df10n_filtered.columns"
   ]
  },
  {
   "cell_type": "code",
   "execution_count": null,
   "metadata": {},
   "outputs": [],
   "source": [
    "pivot_table = df10n_filtered.pivot_table(index='pair_address', columns='interval', values=  'token_price_usd',  aggfunc='first')"
   ]
  },
  {
   "cell_type": "code",
   "execution_count": null,
   "metadata": {},
   "outputs": [],
   "source": [
    "pivot_table.reset_index(inplace=True)"
   ]
  },
  {
   "cell_type": "code",
   "execution_count": null,
   "metadata": {},
   "outputs": [],
   "source": [
    "pivot_table.columns = [f'{interval.left} a {interval.right} min' if isinstance(interval, pd.Interval) else interval for interval in pivot_table.columns]"
   ]
  },
  {
   "cell_type": "code",
   "execution_count": null,
   "metadata": {},
   "outputs": [
    {
     "name": "stdout",
     "output_type": "stream",
     "text": [
      "                                            pair_address    0 a 20 min  \\\n",
      "0      0:0121786b5319f6cc1b380e3d4f17e28273fc37fac500...  3.136000e-03   \n",
      "1      0:01269803fe53bd1fe40c02bc04a906c14c6efd38e6ee...  3.578000e-05   \n",
      "2      0:01c00bdd6ed2ceb7b0adf8c8ea5a1857983bbbf0d4b1...           NaN   \n",
      "3      0:03c2eca2cf727d710c2f7479ead0f66d10ae543306ef...           NaN   \n",
      "4      0:06d2d46c135817293e85a7aa4fe2c458ec6fe47a6651...           NaN   \n",
      "...                                                  ...           ...   \n",
      "72569        ziav4qYc43wruyyp8mnLL4x2XkdWcNkV7cSGxqJ3XGk  3.631000e-03   \n",
      "72570        zn1GSbRZbsL1bXRKhUmCc97TnXQoJfV5bEH1sD9SCsz  1.713000e-05   \n",
      "72571        zpy18s5sLo26hPDmzJRmw7P2RZ3whuG2ctAG9Ra5ddw  1.111000e-08   \n",
      "72572        zu6pfRUS57weJtJRKq4vogm3rZqdG1S7quqZfqiruZR  1.173000e-05   \n",
      "72573        zvesNcpqGHSFHUEq3Jy9uNLx4HTH751euSDEm4MCCPD  5.253000e-04   \n",
      "\n",
      "        20 a 40 min   40 a 60 min   60 a 80 min  80 a 100 min  100 a 120 min  \\\n",
      "0      3.049000e-03  3.049000e-03  3.049000e-03  3.049000e-03   3.049000e-03   \n",
      "1      3.669000e-05  3.813000e-05  3.813000e-05  4.198000e-05   4.160000e-05   \n",
      "2      2.924000e-05  3.168000e-05           NaN           NaN            NaN   \n",
      "3      6.841000e-10  7.148000e-10  7.349000e-10  7.794000e-10   7.544000e-10   \n",
      "4      7.564000e-06  7.685000e-06  7.685000e-06           NaN            NaN   \n",
      "...             ...           ...           ...           ...            ...   \n",
      "72569  1.647000e-03  3.210000e-03  2.463000e-03  2.172000e-03   1.787000e-03   \n",
      "72570  1.648000e-05  3.183000e-05           NaN  1.126000e-05   1.095000e-05   \n",
      "72571           NaN           NaN           NaN           NaN            NaN   \n",
      "72572           NaN           NaN           NaN           NaN            NaN   \n",
      "72573           NaN           NaN           NaN           NaN            NaN   \n",
      "\n",
      "       120 a 140 min  140 a 160 min  160 a 180 min  180 a 200 min  \\\n",
      "0       3.049000e-03   3.049000e-03   3.049000e-03   3.049000e-03   \n",
      "1       4.176000e-05   4.462000e-05   4.423000e-05   4.432000e-05   \n",
      "2                NaN            NaN            NaN            NaN   \n",
      "3       7.544000e-10   7.544000e-10   7.544000e-10   7.544000e-10   \n",
      "4                NaN            NaN            NaN            NaN   \n",
      "...              ...            ...            ...            ...   \n",
      "72569   1.364000e-03   9.323000e-04   1.310000e-03   8.775000e-04   \n",
      "72570   1.057000e-05   1.043000e-05   1.027000e-05   1.024000e-05   \n",
      "72571            NaN            NaN            NaN            NaN   \n",
      "72572            NaN            NaN            NaN            NaN   \n",
      "72573            NaN            NaN            NaN            NaN   \n",
      "\n",
      "       200 a 220 min  220 a 240 min  240 a 260 min  260 a 280 min  \n",
      "0       3.049000e-03   3.049000e-03   3.049000e-03       0.003049  \n",
      "1       4.481000e-05   4.406000e-05   4.244000e-05       0.000043  \n",
      "2                NaN            NaN            NaN            NaN  \n",
      "3       7.716000e-10   7.909000e-10   7.909000e-10            NaN  \n",
      "4                NaN            NaN            NaN            NaN  \n",
      "...              ...            ...            ...            ...  \n",
      "72569   8.925000e-04   5.008000e-04   4.782000e-04       0.000470  \n",
      "72570   1.021000e-05   1.076000e-05   1.357000e-05       0.000020  \n",
      "72571            NaN            NaN            NaN            NaN  \n",
      "72572            NaN            NaN            NaN            NaN  \n",
      "72573            NaN            NaN            NaN            NaN  \n",
      "\n",
      "[72574 rows x 15 columns]\n"
     ]
    }
   ],
   "source": [
    "print(pivot_table)"
   ]
  },
  {
   "cell_type": "code",
   "execution_count": null,
   "metadata": {},
   "outputs": [
    {
     "data": {
      "text/plain": [
       "Index(['pair_address', '0 a 20 min', '20 a 40 min', '40 a 60 min',\n",
       "       '60 a 80 min', '80 a 100 min', '100 a 120 min', '120 a 140 min',\n",
       "       '140 a 160 min', '160 a 180 min', '180 a 200 min', '200 a 220 min',\n",
       "       '220 a 240 min', '240 a 260 min', '260 a 280 min'],\n",
       "      dtype='object')"
      ]
     },
     "execution_count": 245,
     "metadata": {},
     "output_type": "execute_result"
    }
   ],
   "source": [
    "pivot_table.columns"
   ]
  },
  {
   "cell_type": "code",
   "execution_count": null,
   "metadata": {},
   "outputs": [],
   "source": [
    "df_10min = pd.merge(X_otcompleto,pivot_table[pivot_table.columns], on='pair_address', how='left')"
   ]
  },
  {
   "cell_type": "code",
   "execution_count": null,
   "metadata": {},
   "outputs": [
    {
     "name": "stdout",
     "output_type": "stream",
     "text": [
      "     chain_id       dex_id token_created_dia token_website token_twitter  \\\n",
      "0    arbitrum    sushiswap      quarta-feira         False         False   \n",
      "1        base      uniswap      quarta-feira         False          True   \n",
      "2    ethereum      uniswap      quarta-feira         False         False   \n",
      "3       blast     thruster      quarta-feira         False         False   \n",
      "4   avalanche    traderjoe       terça-feira         False         False   \n",
      "5        base      uniswap       terça-feira         False          True   \n",
      "6        base      uniswap      quarta-feira         False          True   \n",
      "7        base      uniswap       terça-feira         False          True   \n",
      "8         bsc  pancakeswap      quarta-feira         False         False   \n",
      "9    arbitrum      camelot      quarta-feira         False         False   \n",
      "10        bsc  pancakeswap       terça-feira         False         False   \n",
      "11  avalanche    traderjoe       terça-feira         False         False   \n",
      "12  avalanche    traderjoe      quarta-feira         False         False   \n",
      "13   arbitrum      camelot       terça-feira         False         False   \n",
      "14    polygon    quickswap       terça-feira         False         False   \n",
      "15   arbitrum      camelot       terça-feira         False         False   \n",
      "16       base      uniswap       terça-feira         False         False   \n",
      "17       base      uniswap       terça-feira         False          True   \n",
      "18        bsc  pancakeswap      quarta-feira         False         False   \n",
      "19        bsc  pancakeswap       terça-feira         False         False   \n",
      "20        bsc  pancakeswap       terça-feira         False         False   \n",
      "21       base      uniswap      quarta-feira         False          True   \n",
      "\n",
      "   token_eti token_header token_img_key token_created_hora  token_m5_buys  \\\n",
      "0      False        False             0                  0              4   \n",
      "1      False         True             1                 13            708   \n",
      "2      False        False             0                 21             14   \n",
      "3      False        False             0                 16            103   \n",
      "4      False        False             0                 10             32   \n",
      "5      False         True             1                  0           1079   \n",
      "6      False         True             1                 22              6   \n",
      "7      False         True             1                 13            253   \n",
      "8      False        False             0                 18              6   \n",
      "9      False        False             0                  1              6   \n",
      "10     False        False             0                  8              3   \n",
      "11     False        False             0                  7              6   \n",
      "12     False        False             0                 12             33   \n",
      "13     False        False             0                  8             52   \n",
      "14     False        False             0                  2              3   \n",
      "15     False        False             0                 10            324   \n",
      "16     False         True             1                  4            331   \n",
      "17     False         True             1                  7            495   \n",
      "18     False        False             0                 21              7   \n",
      "19     False        False             0                 23             13   \n",
      "20     False        False             0                  2              9   \n",
      "21     False         True             1                  0            960   \n",
      "\n",
      "    ...  80 a 100 min  100 a 120 min  120 a 140 min  140 a 160 min  \\\n",
      "0   ...  1.528000e-07   1.851000e-07            NaN   2.572000e-07   \n",
      "1   ...  2.111000e-03            NaN   2.674000e-03   2.231000e-03   \n",
      "2   ...           NaN            NaN            NaN            NaN   \n",
      "3   ...  6.999000e-08   7.584000e-08            NaN   9.753000e-08   \n",
      "4   ...  1.209000e-08   1.270000e-08   1.847000e-08   1.990000e-08   \n",
      "5   ...  6.625000e-06   8.928000e-06   1.079000e-05   9.662000e-06   \n",
      "6   ...           NaN            NaN            NaN            NaN   \n",
      "7   ...  2.092000e-03   1.884000e-03   2.190000e-03            NaN   \n",
      "8   ...  2.907000e-05   3.919000e-05   4.237000e-05   5.319000e-05   \n",
      "9   ...  9.679000e-08            NaN   1.452000e-07   1.958000e-07   \n",
      "10  ...  7.687000e-03   7.464000e-03            NaN   9.879000e-03   \n",
      "11  ...  4.243000e-05            NaN   4.320000e-05   7.098000e-05   \n",
      "12  ...  1.661000e-08   2.076000e-08   2.532000e-08            NaN   \n",
      "13  ...  3.156000e-08   2.752000e-08   2.667000e-08   2.997000e-08   \n",
      "14  ...  5.710000e+00            NaN            NaN            NaN   \n",
      "15  ...  9.646000e-08   1.083000e-07   1.466000e-07            NaN   \n",
      "16  ...  7.698000e-04   7.733000e-04   9.506000e-04   6.444000e-04   \n",
      "17  ...  6.059000e-03   6.886000e-03   7.063000e-03   6.114000e-03   \n",
      "18  ...  9.447000e-07            NaN            NaN            NaN   \n",
      "19  ...  9.403000e-07   1.166000e-06   1.280000e-06   1.311000e-06   \n",
      "20  ...  8.332000e-03   7.950000e-03   7.811000e-03   7.870000e-03   \n",
      "21  ...  1.843000e-04            NaN   5.220000e-04   6.436000e-04   \n",
      "\n",
      "    160 a 180 min  180 a 200 min  200 a 220 min  220 a 240 min  240 a 260 min  \\\n",
      "0    3.073000e-07   3.548000e-07   3.949000e-07            NaN   5.498000e-07   \n",
      "1    2.849000e-03   2.332000e-03   3.176000e-03   3.571000e-03   3.678000e-03   \n",
      "2             NaN            NaN            NaN            NaN            NaN   \n",
      "3    1.025000e-07   1.229000e-07   1.231000e-07   1.392000e-07   1.688000e-07   \n",
      "4    2.339000e-08   2.757000e-08   3.181000e-08   4.080000e-08            NaN   \n",
      "5    2.296000e-05   3.070000e-05   3.703000e-05            NaN   5.060000e-05   \n",
      "6             NaN            NaN            NaN            NaN            NaN   \n",
      "7    2.794000e-03   3.893000e-03   4.290000e-03   4.833000e-03   3.659000e-03   \n",
      "8             NaN   5.915000e-05   5.551000e-05   4.793000e-05   5.617000e-05   \n",
      "9             NaN   2.946000e-07            NaN            NaN            NaN   \n",
      "10   1.132000e-02   1.260000e-02   1.390000e-02   1.447000e-02   1.479000e-02   \n",
      "11   7.708000e-05   6.553000e-05   5.039000e-05   5.171000e-05   5.128000e-05   \n",
      "12   2.810000e-08   3.518000e-08   3.929000e-08   4.349000e-08   4.843000e-08   \n",
      "13   3.281000e-08   3.584000e-08   4.351000e-08            NaN            NaN   \n",
      "14            NaN            NaN            NaN            NaN            NaN   \n",
      "15   2.132000e-07   2.287000e-07   2.342000e-07   2.175000e-07   2.703000e-07   \n",
      "16   9.466000e-04   1.092000e-03   1.254000e-03   1.264000e-03   1.270000e-03   \n",
      "17   6.994000e-03   7.999000e-03   8.871000e-03   8.900000e-03   9.633000e-03   \n",
      "18            NaN            NaN            NaN            NaN            NaN   \n",
      "19   1.365000e-06            NaN   1.776000e-06   1.842000e-06   2.075000e-06   \n",
      "20   7.996000e-03   8.255000e-03   8.174000e-03   8.427000e-03   8.427000e-03   \n",
      "21   8.899000e-04   8.754000e-04   9.784000e-04   1.087000e-03            NaN   \n",
      "\n",
      "   260 a 280 min  \n",
      "0            NaN  \n",
      "1   4.318000e-03  \n",
      "2            NaN  \n",
      "3   1.951000e-07  \n",
      "4   4.712000e-08  \n",
      "5   5.846000e-05  \n",
      "6            NaN  \n",
      "7            NaN  \n",
      "8            NaN  \n",
      "9            NaN  \n",
      "10  1.217000e-02  \n",
      "11  5.308000e-05  \n",
      "12  5.641000e-08  \n",
      "13  4.874000e-08  \n",
      "14           NaN  \n",
      "15  3.070000e-07  \n",
      "16  1.404000e-03  \n",
      "17  9.870000e-03  \n",
      "18           NaN  \n",
      "19  2.277000e-06  \n",
      "20  8.756000e-03  \n",
      "21           NaN  \n",
      "\n",
      "[22 rows x 49 columns]\n"
     ]
    }
   ],
   "source": [
    "print(df_10min)"
   ]
  },
  {
   "cell_type": "code",
   "execution_count": null,
   "metadata": {},
   "outputs": [],
   "source": [
    "#usando API para verificar possível malicia no token\n",
    "from goplus.token import Token\n",
    "\n",
    "data = Token(access_token=None).token_security(\n",
    "    chain_id=\"8453\", addresses=[\"0xAD5451aA2692513e066f42bE8a469D40c8E578FA\"]\n",
    ")\n",
    "print(data)"
   ]
  }
 ],
 "metadata": {
  "kernelspec": {
   "display_name": "nome_do_seu_ambiente",
   "language": "python",
   "name": "python3"
  },
  "language_info": {
   "codemirror_mode": {
    "name": "ipython",
    "version": 3
   },
   "file_extension": ".py",
   "mimetype": "text/x-python",
   "name": "python",
   "nbconvert_exporter": "python",
   "pygments_lexer": "ipython3",
   "version": "3.11.5"
  }
 },
 "nbformat": 4,
 "nbformat_minor": 2
}
